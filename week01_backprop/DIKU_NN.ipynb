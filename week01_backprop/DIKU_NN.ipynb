{
 "cells": [
  {
   "cell_type": "code",
   "execution_count": 2,
   "metadata": {
    "collapsed": true
   },
   "outputs": [],
   "source": [
    "import numpy as np"
   ]
  },
  {
   "cell_type": "code",
   "execution_count": 3,
   "metadata": {},
   "outputs": [
    {
     "data": {
      "text/plain": [
       "(array([[ 0.37829184]]), array([[ 0.37829185]]))"
      ]
     },
     "execution_count": 3,
     "metadata": {},
     "output_type": "execute_result"
    }
   ],
   "source": [
    "# checking the alternative sigmoid derivative\n",
    "def f_sig(a):\n",
    "    return a/(1+abs(a))\n",
    "\n",
    "def df_sig(a):\n",
    "    return 1/(1+abs(a))**2\n",
    "\n",
    "h = 0.00000001\n",
    "x = np.random.random((1,1))\n",
    "(f_sig(x+h) - f_sig(x)) / h, df_sig(x)"
   ]
  },
  {
   "cell_type": "code",
   "execution_count": null,
   "metadata": {},
   "outputs": [],
   "source": [
    "# the approach is using vectors/matrices, \n",
    "# thus all inputs are applied at once\n",
    "X = np.random.random((2,3))\n",
    "def initialise_weights(num_neurons):\n",
    "    # the weights are between -1 and 1, with mean 0\n",
    "    w_b0_i = 2*np.random.random((num_neurons, 1)) - 1\n",
    "    w0_i = 2*np.random.random((num_neurons, 1)) - 1\n",
    "\n",
    "    w_b1_i = 2*np.random.random((1, 1)) - 1\n",
    "    w1_i = 2*np.random.random((num_neurons, 1)) - 1 \n",
    "    return w_b0_i, w0_i, w_b1_i, w1_i \n",
    "\n",
    "def feed_forward(w_b0, w0, w_b1, w1):\n",
    "    # z0 is the output of the hidden layer\n",
    "    a0 = np.dot(w0, X) + w_b0\n",
    "    z0 = f_sig(a0)\n",
    "\n",
    "    # z1 is the final output (predictions/y_hat)   \n",
    "    a1 = np.dot(z0.T, w1) + w_b1\n",
    "    z1 = a1\n",
    "    return (a0, z0, a1, z1)\n",
    "\n",
    "\n",
    "w_b0, w0, w_b1, w1 = initialise_weights(4)\n",
    "a0, z0, a1, z1 = feed_forward(w_b0, w0, w_b1, w1)\n",
    "\n",
    "mse(z1, y)"
   ]
  },
  {
   "cell_type": "code",
   "execution_count": null,
   "metadata": {
    "collapsed": true
   },
   "outputs": [],
   "source": [
    "def back_prop(z0, a1, z1):\n",
    "    d_output = z1 - y\n",
    "    dw1 = np.dot(dZ2, A1.T)\n",
    "    np.sum(dZ2, axis=1)\n",
    "    \n",
    "    deriv_layer = np.multiply(np.dot(W2.T, dZ2), d_alternative_sigmoid(Z1))\n",
    "    np.dot(dZ1, X.T)\n",
    "    np.sum(dZ1, axis=1)"
   ]
  },
  {
   "cell_type": "code",
   "execution_count": 440,
   "metadata": {},
   "outputs": [
    {
     "data": {
      "text/plain": [
       "((7, 7), (2, 25))"
      ]
     },
     "execution_count": 440,
     "metadata": {},
     "output_type": "execute_result"
    }
   ],
   "source": [
    "d = 1\n",
    "K = 1\n",
    "M = 4\n",
    "e\n",
    "# invariant : j<i\n",
    "Wij = np.zeros((d+M+K+1,d+M+K+1))\n",
    "Wij.shape,Xtr.shape"
   ]
  },
  {
   "cell_type": "code",
   "execution_count": 441,
   "metadata": {},
   "outputs": [
    {
     "data": {
      "text/plain": [
       "<matplotlib.image.AxesImage at 0x1105e24e0>"
      ]
     },
     "execution_count": 441,
     "metadata": {},
     "output_type": "execute_result"
    },
    {
     "data": {
      "image/png": "[encoded data removed]",
      "text/plain": [
       "<matplotlib.figure.Figure at 0x1145e35f8>"
      ]
     },
     "metadata": {},
     "output_type": "display_data"
    }
   ],
   "source": [
    "# random init biases for both hidden layer and output\n",
    "Wij[d+1:d+1+M+K,0:1] = 2*np.random.random((M+K,1))-1\n",
    "# random init weights for the hidden layer\n",
    "Wij[d+1:d+M+1,1:d+1] = 2*np.random.random((M,d))-1\n",
    "# random init weights for the output layer\n",
    "Wij[d+M+K:d+M+K+1,d+1:d+1+M] = 2*np.random.random((K,M))-1\n",
    "plt.spy(Wij)"
   ]
  },
  {
   "cell_type": "code",
   "execution_count": 444,
   "metadata": {},
   "outputs": [
    {
     "name": "stdout",
     "output_type": "stream",
     "text": [
      "[[ 0.41821277]] [[-0.108044]] [[ 0.52625677]]\n",
      "0.27694619062\n"
     ]
    }
   ],
   "source": [
    "#add the bias to the input\n",
    "Xtr = np.vstack([X,np.ones((1,25))])\n",
    "ytr = y\n",
    "\n",
    "# forward pass :\n",
    "def mse(yh, y):\n",
    "    return np.mean((y - yh)**2)\n",
    "\n",
    "def sig(a):\n",
    "    return 1/(1 + np.abs(a))\n",
    "ybatch=ytr[:,0:n]\n",
    "Xbatch=Xtr[:,0:n]\n",
    "n=1\n",
    "A=np.zeros((M,n))\n",
    "Z=np.zeros((M,n))\n",
    "# for each of the neurons in the hidden layer\n",
    "ii=-1\n",
    "for i in range(d+1,d+1+M):\n",
    "    ii = ii + 1 \n",
    "#     print(i,Wij[i,0:d+1])\n",
    "#     Xtr[:,0:1],Wij[i,0:d+1],Wij[i,0:d+1].dot(Xtr[:,0:1])\n",
    "    a = Wij[i,0:d+1].dot(Xbatch)\n",
    "    z = sig(a)\n",
    "#     print((a,z))\n",
    "    A[ii,:] = a\n",
    "    Z[ii,:] = z\n",
    "# print((A,Z))\n",
    "\n",
    "# add the bias to the hidden layer output:\n",
    "Z = np.vstack([Z,np.ones((1,n))])\n",
    "# compute the output value:\n",
    "yhat = np.zeros((K,n))\n",
    "ii=-1\n",
    "for i in range(d+1+M,d+1+M+K):\n",
    "    ii = ii+1\n",
    "    w_idx = np.r_[[0],d+1:d+1+M]\n",
    "    w = Wij[i:i+1,w_idx]\n",
    "#     print(w,A,w.dot(A))\n",
    "    yhat[ii,:] = w.dot(Z)\n",
    "print(yhat,ybatch,yhat-ybatch)\n",
    "print(mse(yhat,ybatch))"
   ]
  },
  {
   "cell_type": "code",
   "execution_count": 443,
   "metadata": {},
   "outputs": [
    {
     "name": "stdout",
     "output_type": "stream",
     "text": [
      "[[-0.52625677]]\n",
      "[[-0.52625677]]\n",
      "[[-0.52625677]]\n",
      "[[-0.52625677]]\n"
     ]
    },
    {
     "data": {
      "text/plain": [
       "<matplotlib.image.AxesImage at 0x114a7f4a8>"
      ]
     },
     "execution_count": 443,
     "metadata": {},
     "output_type": "execute_result"
    },
    {
     "data": {
      "image/png": "[encoded data removed]",
      "text/plain": [
       "<matplotlib.figure.Figure at 0x114603f28>"
      ]
     },
     "metadata": {},
     "output_type": "display_data"
    }
   ],
   "source": [
    "# backward pass:\n",
    "\n",
    "def d_mse(yh, y):\n",
    "    return y - yh\n",
    "\n",
    "def d_sig(a):\n",
    "    return 1/(1+abs(a))**2\n",
    "\n",
    "# Create a matrix of same shape as Wij to hold gradients\n",
    "dWij = np.zeros((d+M+K+1,d+M+K+1))\n",
    "\n",
    "# compute gradient from output layer:\n",
    "ii=K\n",
    "for i in range(d+M+K,d+M,-1):\n",
    "    ii = ii-1\n",
    "    E = d_mse(yhat,ybatch)\n",
    "    # distribute the MSE according to the weights of the output layer\n",
    "    w_idx = np.r_[[0],d+1:d+1+M]\n",
    "    w = Wij[i:i+1,w_idx]\n",
    "    # there exists an error from every point\n",
    "#     print(\"error for each point: \",E,\"\\n weights: \",w,\"\\n number of points:\",E.shape[1]) \n",
    "    # gradient of error from each of the points\n",
    "    dE_X = 1/E.shape[1]*w.T*E\n",
    "    # gradient of the error aggregated on every dimension\n",
    "#     print(np.sum(dE_X,axis=1))\n",
    "    dE_d = 1/len(w_idx)*np.sum(dE_X,axis=1)\n",
    "#     print(\"w and dE are linearly dependent; dE:\",dE_d,\"w:\",w,\"w/dE:\", w/dE_d)\n",
    "    dWij[i:i+1,w_idx]=dE_d\n",
    "    \n",
    "\n",
    "\n",
    "# compute gradients of neurons in the hidden layer in reverse order\n",
    "ii=M\n",
    "for i in range(d+1+M,d+1,-1):\n",
    "    E=d_mse(yhat,ybatch)\n",
    "    print(E)\n",
    "    ii = ii - 1\n",
    "    a = A[ii,:]\n",
    "    z = Z[ii,:]\n",
    "    \n",
    "plt.spy(dWij)"
   ]
  }
 ],
 "metadata": {
  "kernelspec": {
   "display_name": "Python 3",
   "language": "python",
   "name": "python3"
  },
  "language_info": {
   "codemirror_mode": {
    "name": "ipython",
    "version": 3
   },
   "file_extension": ".py",
   "mimetype": "text/x-python",
   "name": "python",
   "nbconvert_exporter": "python",
   "pygments_lexer": "ipython3",
   "version": "3.5.4"
  }
 },
 "nbformat": 4,
 "nbformat_minor": 2
}
